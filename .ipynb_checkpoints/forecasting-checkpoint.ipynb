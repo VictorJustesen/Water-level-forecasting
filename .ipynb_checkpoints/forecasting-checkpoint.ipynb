{
 "cells": [
  {
   "cell_type": "code",
   "execution_count": 1,
   "id": "f8148e62-1ebe-4fa2-806b-6cbb80bcf2dd",
   "metadata": {},
   "outputs": [
    {
     "ename": "ModuleNotFoundError",
     "evalue": "No module named 'gpflow'",
     "output_type": "error",
     "traceback": [
      "\u001b[0;31m---------------------------------------------------------------------------\u001b[0m",
      "\u001b[0;31mModuleNotFoundError\u001b[0m                       Traceback (most recent call last)",
      "Cell \u001b[0;32mIn[1], line 4\u001b[0m\n\u001b[1;32m      2\u001b[0m \u001b[38;5;28;01mimport\u001b[39;00m \u001b[38;5;21;01mmatplotlib\u001b[39;00m\u001b[38;5;21;01m.\u001b[39;00m\u001b[38;5;21;01mpyplot\u001b[39;00m \u001b[38;5;28;01mas\u001b[39;00m \u001b[38;5;21;01mplt\u001b[39;00m\n\u001b[1;32m      3\u001b[0m \u001b[38;5;28;01mimport\u001b[39;00m \u001b[38;5;21;01mnumpy\u001b[39;00m \u001b[38;5;28;01mas\u001b[39;00m \u001b[38;5;21;01mnp\u001b[39;00m\n\u001b[0;32m----> 4\u001b[0m \u001b[38;5;28;01mimport\u001b[39;00m \u001b[38;5;21;01mgpflow\u001b[39;00m\n\u001b[1;32m      5\u001b[0m \u001b[38;5;28;01mimport\u001b[39;00m \u001b[38;5;21;01mtensorflow\u001b[39;00m\u001b[38;5;21;01m.\u001b[39;00m\u001b[38;5;21;01mcompat\u001b[39;00m\u001b[38;5;21;01m.\u001b[39;00m\u001b[38;5;21;01mv1\u001b[39;00m \u001b[38;5;28;01mas\u001b[39;00m \u001b[38;5;21;01mtf\u001b[39;00m\n\u001b[1;32m      6\u001b[0m \u001b[38;5;28;01mfrom\u001b[39;00m \u001b[38;5;21;01msklearn\u001b[39;00m\u001b[38;5;21;01m.\u001b[39;00m\u001b[38;5;21;01mmetrics\u001b[39;00m \u001b[38;5;28;01mimport\u001b[39;00m r2_score\n",
      "\u001b[0;31mModuleNotFoundError\u001b[0m: No module named 'gpflow'"
     ]
    }
   ],
   "source": [
    "import pandas as pd\n",
    "import matplotlib.pyplot as plt\n",
    "import numpy as np\n",
    "import gpflow\n",
    "import tensorflow.compat.v1 as tf\n",
    "from sklearn.metrics import r2_score\n",
    "from statsmodels.tsa.ar_model import AutoReg\n",
    "from statsmodels.tsa.holtwinters import SimpleExpSmoothing, ExponentialSmoothing\n",
    "from statsmodels.tsa.arima.model import ARIMA\n",
    "from sklearn.linear_model import LinearRegression\n",
    "\n",
    "from data import loadDataset\n",
    "\n",
    "tf.disable_v2_behavior()\n",
    "tf.compat.v1.disable_eager_execution()\n",
    "\n",
    "#---------------------------------------------------------------\n",
    "#---------------------------------------------------------------\n",
    "def moving_average(data, window_size, n_forecast):\n",
    "    return data.rolling(window = window_size).mean().iloc[-n_forecast:]\n",
    "\n",
    "#---------------------------------------------------------------\n",
    "def autoregression(data, start, end):\n",
    "    res = AutoReg(data, lags = 1).fit()\n",
    "    return res.model.predict(res.params, start = start, end = end)\n",
    "\n",
    "#---------------------------------------------------------------\n",
    "def simple_exponential_smoothing(data, n_forecast):\n",
    "    model = SimpleExpSmoothing(data)\n",
    "    model_fit = model.fit()\n",
    "    return model_fit.forecast(n_forecast)\n",
    "\n",
    "#---------------------------------------------------------------\n",
    "def holtWinter_smoothing(data, n_forecast):\n",
    "    model = ExponentialSmoothing(data)\n",
    "    model_fit = model.fit()\n",
    "    return model_fit.forecast(n_forecast)\n",
    "\n",
    "#---------------------------------------------------------------\n",
    "def arima_model(data, n_forecast):\n",
    "    model = ARIMA(endog = data)\n",
    "    model_fit = model.fit()\n",
    "    return model_fit.forecast(steps = n_forecast)\n",
    "\n",
    "#---------------------------------------------------------------\n",
    "def linear_regression_model(Xtrain, ytrain, Xtest):\n",
    "    Xtrain = np.asarray(Xtrain).reshape(-1, 1)\n",
    "    Xtest = np.asarray(Xtest).reshape(-1, 1)\n",
    "    ytrain = ytrain.reshape(-1, 1)\n",
    "    model = LinearRegression()\n",
    "    model.fit(Xtrain, ytrain)\n",
    "    return model.predict(Xtest)\n",
    "\n",
    "#---------------------------------------------------------------\n",
    "def GPR(Xtrain, ytrain, Xtest):\n",
    "\n",
    "    Xtrain = Xtrain.reshape(-1, 1)\n",
    "    Xtest = Xtest.reshape(-1, 1)\n",
    "    ytrain = ytrain.reshape(-1, 1)\n",
    "\n",
    "    kernel = gpflow.kernels.RBF(lengthscales = 10)\n",
    "\n",
    "    model = gpflow.models.SGPR(data = (Xtrain, ytrain), \n",
    "                               kernel = kernel, \n",
    "                               inducing_variable = Xtrain[::10])\n",
    "\n",
    "    #opt = gpflow.optimizers.Scipy()\n",
    "    opt = tf.optimizers.Adam()\n",
    "    opt_logs = opt.minimize(model.training_loss, \n",
    "                            model.trainable_variables, \n",
    "                            options = dict(maxiter = 100))\n",
    "    predictions, _ = model.predict_y(Xtest)\n",
    "    return predictions\n",
    "\n",
    "#---------------------------------------------------------------\n"
   ]
  },
  {
   "cell_type": "code",
   "execution_count": null,
   "id": "3cb50eac-f921-44f5-951b-f0b554a3e800",
   "metadata": {},
   "outputs": [],
   "source": []
  },
  {
   "cell_type": "code",
   "execution_count": null,
   "id": "bb55db5d-aaa7-49a6-b030-7c57aa5d2881",
   "metadata": {},
   "outputs": [],
   "source": []
  },
  {
   "cell_type": "code",
   "execution_count": null,
   "id": "800a61c5-64ff-4e2d-b3d8-0f89688e07b4",
   "metadata": {},
   "outputs": [],
   "source": []
  }
 ],
 "metadata": {
  "kernelspec": {
   "display_name": "Python 3 (ipykernel)",
   "language": "python",
   "name": "python3"
  },
  "language_info": {
   "codemirror_mode": {
    "name": "ipython",
    "version": 3
   },
   "file_extension": ".py",
   "mimetype": "text/x-python",
   "name": "python",
   "nbconvert_exporter": "python",
   "pygments_lexer": "ipython3",
   "version": "3.11.5"
  }
 },
 "nbformat": 4,
 "nbformat_minor": 5
}
